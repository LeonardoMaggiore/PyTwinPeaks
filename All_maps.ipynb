{
 "cells": [
  {
   "cell_type": "code",
   "execution_count": null,
   "id": "329e80f6",
   "metadata": {
    "scrolled": false
   },
   "outputs": [],
   "source": [
    "import nbformat as nbf\n",
    "from nbformat import read, NO_CONVERT\n",
    "import nbconvert as nbc\n",
    "from nbconvert.preprocessors import ExecutePreprocessor\n",
    "import sys, os\n",
    "os.environ['PYDEVD_DISABLE_FILE_VALIDATION'] = '1'\n",
    "\n",
    "#z_map = ['z1.0', 'z0.8', 'z0.6', 'z0.4', 'z0.2']\n",
    "#tomog = [\"z1.0-z0.8\", \"z0.8-z0.6\", \"z0.6-z0.4\", \"z0.4-z0.2\"]\n",
    "cosmoin = [\"LCDM\", \"fR4\", \"fR5\", \"fR6\", \"LCDM_0.15\"]\n",
    "\n",
    "c_run = 0 #Selection of thhe cosmological model\n",
    "\n",
    "folderin = \".../Weaklensing/input_relative/\" + cosmoin[c_run] + '/' # Specify the path of the input cosmology folder \n",
    "\n",
    "notebook_path = \".../Weaklensing/Code/Tunnel_void_finder.ipynb\"  # Specify the path of your notebook\n",
    "\n",
    "n = 256  #Specify the number of your maps\n",
    "\n",
    "subfolders = [str(i).zfill(2) for i in range(n)]  # Generate a list of subfolders from \"00\" to \"n\"\n",
    "\n",
    "for l_c in subfolders:\n",
    "    folderinn = folderin + l_c + \"/\"\n",
    "    print(\"Esecution maps n:\", l_c, folderinn)\n",
    "                                                                 \n",
    "    # Change the current directory to the desired path\n",
    "    os.chdir(folderinn)\n",
    "\n",
    "    # Read the notebook content\n",
    "    with open(notebook_path, \"r\", encoding=\"utf-8\") as f:\n",
    "        nb = nbf.read(f, as_version=4)\n",
    "\n",
    "    # Modify the content of the first cell of the notebook for l_c\n",
    "    first_cell = nb['cells'][0]\n",
    "    first_cell_source = first_cell['source']\n",
    "    modified_source = first_cell_source.replace(\"l_c =\", \"l_c = \\\"\" + l_c + \"\\\"\")\n",
    "    first_cell['source'] = modified_source\n",
    "    \n",
    "    # Modify the content of the first cell of the notebook for c_run\n",
    "    #modified_source = first_cell['source'].replace(\"c_run =\", \"c_run = \" + str(c_run))\n",
    "    #first_cell['source'] = modified_source\n",
    "\n",
    "    # Create a preprocessor for executing the cells\n",
    "    ep = ExecutePreprocessor(timeout=900, kernel_name=\"python3\")\n",
    "\n",
    "    # Run the notebook\n",
    "    ep.preprocess(nb, {'metadata': {'path': '.'}})\n",
    "\n",
    "    # Restore the current path at the end\n",
    "    os.chdir(\".../Weaklensing\")"
   ]
  }
 ],
 "metadata": {
  "kernelspec": {
   "display_name": "Python 3 (ipykernel)",
   "language": "python",
   "name": "python3"
  },
  "language_info": {
   "codemirror_mode": {
    "name": "ipython",
    "version": 3
   },
   "file_extension": ".py",
   "mimetype": "text/x-python",
   "name": "python",
   "nbconvert_exporter": "python",
   "pygments_lexer": "ipython3",
   "version": "3.11.5"
  }
 },
 "nbformat": 4,
 "nbformat_minor": 5
}
